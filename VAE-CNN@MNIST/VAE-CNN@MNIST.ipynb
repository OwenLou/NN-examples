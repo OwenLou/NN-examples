{
 "cells": [
  {
   "cell_type": "markdown",
   "metadata": {},
   "source": [
    "# VAE-CNN@MNIST"
   ]
  },
  {
   "cell_type": "markdown",
   "metadata": {},
   "source": [
    "Do VAE on MNIST using CNNs."
   ]
  },
  {
   "cell_type": "code",
   "execution_count": 18,
   "metadata": {},
   "outputs": [
    {
     "ename": "ModuleNotFoundError",
     "evalue": "No module named 'google.colab'",
     "output_type": "error",
     "traceback": [
      "\u001b[1;31m---------------------------------------------------------------------------\u001b[0m",
      "\u001b[1;31mModuleNotFoundError\u001b[0m                       Traceback (most recent call last)",
      "\u001b[1;32md:\\Projects\\ML\\NN_examples\\VAE-CNN@MNIST\\VAE-CNN@MNIST.ipynb Cell 3'\u001b[0m in \u001b[0;36m<cell line: 1>\u001b[1;34m()\u001b[0m\n\u001b[1;32m----> <a href='vscode-notebook-cell:/d%3A/Projects/ML/NN_examples/VAE-CNN%40MNIST/VAE-CNN%40MNIST.ipynb#ch0000000?line=0'>1</a>\u001b[0m \u001b[39mfrom\u001b[39;00m \u001b[39mgoogle\u001b[39;00m\u001b[39m.\u001b[39;00m\u001b[39mcolab\u001b[39;00m \u001b[39mimport\u001b[39;00m drive\n\u001b[0;32m      <a href='vscode-notebook-cell:/d%3A/Projects/ML/NN_examples/VAE-CNN%40MNIST/VAE-CNN%40MNIST.ipynb#ch0000000?line=1'>2</a>\u001b[0m drive\u001b[39m.\u001b[39mmount(\u001b[39m'\u001b[39m\u001b[39m/content/gdrive\u001b[39m\u001b[39m'\u001b[39m)\n\u001b[0;32m      <a href='vscode-notebook-cell:/d%3A/Projects/ML/NN_examples/VAE-CNN%40MNIST/VAE-CNN%40MNIST.ipynb#ch0000000?line=3'>4</a>\u001b[0m \u001b[39mimport\u001b[39;00m \u001b[39mos\u001b[39;00m\n",
      "\u001b[1;31mModuleNotFoundError\u001b[0m: No module named 'google.colab'"
     ]
    }
   ],
   "source": [
    "from google.colab import drive\n",
    "drive.mount('/content/gdrive')\n",
    "\n",
    "import os\n",
    "workspace = '/content/gdrive/MyDrive/Colab/VAE-CNN@MNIST'\n",
    "os.chdir(workspace)\n",
    "os.listdir()"
   ]
  },
  {
   "cell_type": "markdown",
   "id": "f3812916",
   "metadata": {
    "id": "f3812916",
    "pycharm": {
     "name": "#%% md\n"
    }
   },
   "source": [
    "## Import and preparations"
   ]
  },
  {
   "cell_type": "code",
   "execution_count": 19,
   "metadata": {},
   "outputs": [],
   "source": [
    "# generic usage\n",
    "import os\n",
    "# import sys\n",
    "import numpy as np\n",
    "# import math\n",
    "import matplotlib.pyplot as plt\n",
    "# from mpl_toolkits.mplot3d import Axes3D\n",
    "import random\n",
    "# import pickle\n",
    "from datetime import datetime\n",
    "\n",
    "# basic torch packages\n",
    "import torch\n",
    "from torch import optim\n",
    "from torch import nn\n",
    "from torch.nn import functional as F\n",
    "from torch.utils.data import Dataset\n",
    "from torch.utils.data import DataLoader\n",
    "from torch.autograd import Variable\n",
    "# import torchvision\n",
    "# from PIL import Image\n",
    "from collections import OrderedDict\n",
    "import importlib\n",
    "\n",
    "# for the MNIST\n",
    "from torchvision import transforms\n",
    "import torchvision.utils\n",
    "from torchvision.utils import save_image\n",
    "from torchvision.datasets import MNIST\n",
    "from torchvision.transforms import ToPILImage\n"
   ]
  },
  {
   "cell_type": "markdown",
   "metadata": {},
   "source": [
    "## HyperParameters of the NN"
   ]
  },
  {
   "cell_type": "markdown",
   "metadata": {},
   "source": [
    "The CNN channel numbers are written in the net class."
   ]
  },
  {
   "cell_type": "code",
   "execution_count": 20,
   "metadata": {},
   "outputs": [
    {
     "name": "stdout",
     "output_type": "stream",
     "text": [
      "data_path -> ./data\n",
      "device -> cuda\n",
      "epoch_num -> 100\n",
      "batch_size -> 256\n",
      "lr_rate -> 0.001\n"
     ]
    }
   ],
   "source": [
    "hyper_params = {\n",
    "    \"data_path\": \"./data\",  # point to the upper dir of the data dir\n",
    "    # \"device\": \"cpu\",\n",
    "    \"device\": \"cuda\",\n",
    "    \"epoch_num\": 100,\n",
    "    \"batch_size\": 256,\n",
    "    \"lr_rate\": 0.001,\n",
    "}\n",
    "\n",
    "[print(i[0], \"->\", i[1]) for i in hyper_params.items()];\n"
   ]
  },
  {
   "cell_type": "markdown",
   "metadata": {},
   "source": [
    "## Data Preparation"
   ]
  },
  {
   "cell_type": "code",
   "execution_count": 21,
   "metadata": {},
   "outputs": [],
   "source": [
    "img_transform = transforms.Compose([\n",
    "    transforms.ToTensor(),\n",
    "    # transforms.Normalize((0.5, 0.5, 0.5), (0.5, 0.5, 0.5)),\n",
    "])\n",
    "\n",
    "dataset = MNIST(\n",
    "    root=\"./data\",\n",
    "    transform=img_transform,\n",
    "    download=True,\n",
    ")"
   ]
  },
  {
   "cell_type": "code",
   "execution_count": 22,
   "metadata": {},
   "outputs": [
    {
     "name": "stdout",
     "output_type": "stream",
     "text": [
      "235\n"
     ]
    }
   ],
   "source": [
    "dataloader = DataLoader(\n",
    "    dataset = dataset,\n",
    "    batch_size=hyper_params[\"batch_size\"],\n",
    "    shuffle=True,\n",
    "    # num_workers=2,\n",
    "    # pin_memory=True,\n",
    ")\n",
    "\n",
    "print(len(dataloader))"
   ]
  },
  {
   "cell_type": "markdown",
   "metadata": {},
   "source": [
    "## Net Definition"
   ]
  },
  {
   "cell_type": "code",
   "execution_count": 23,
   "metadata": {},
   "outputs": [],
   "source": [
    "try:\n",
    "    importlib.reload(NET)\n",
    "except NameError as err:\n",
    "    import NET\n",
    "    print(\"first import NET.py, not reload\")\n",
    "    pass\n"
   ]
  },
  {
   "cell_type": "code",
   "execution_count": 24,
   "metadata": {},
   "outputs": [
    {
     "name": "stdout",
     "output_type": "stream",
     "text": [
      "Training on cuda device\n"
     ]
    }
   ],
   "source": [
    "model = NET.MODEL(hyper_params).to(hyper_params[\"device\"])\n",
    "print(\"Training on {} device\".format(hyper_params['device']))\n",
    "# print(model)\n"
   ]
  },
  {
   "cell_type": "markdown",
   "metadata": {},
   "source": [
    "## run"
   ]
  },
  {
   "cell_type": "code",
   "execution_count": 25,
   "metadata": {},
   "outputs": [],
   "source": [
    "optimizer = optim.Adam(model.parameters(), lr=model.hpm[\"lr_rate\"])\n"
   ]
  },
  {
   "cell_type": "code",
   "execution_count": 26,
   "metadata": {},
   "outputs": [],
   "source": [
    "from WatchDog import *\n",
    "wd = WatchDog(mov_avg_len=10, ratio_max=10)  # the watch dog\n"
   ]
  },
  {
   "cell_type": "code",
   "execution_count": null,
   "metadata": {},
   "outputs": [],
   "source": [
    "# epoch_num = model.hpm[\"epoch_num\"]\n",
    "epoch_num = 200\n",
    "batch_print_num = len(dataloader) // 3\n",
    "\n",
    "model.train()\n",
    "for epoch_idx in range(epoch_num):\n",
    "    wd.add_epoch_loss()\n",
    "    for batch_idx, (x, _) in enumerate(dataloader):\n",
    "        x = x.to(model.hpm['device'])\n",
    "        optimizer.zero_grad()\n",
    "        recon_x, mu, logvar = model(x)\n",
    "        loss = model.loss_func(recon_x, x, mu, logvar, beta=0.1)\n",
    "        if wd.check_batch_loss(loss.detach().cpu().numpy() / x.size(0)):\n",
    "            break\n",
    "        loss.backward()\n",
    "        optimizer.step()\n",
    "        wd.cum_epoch_loss(loss.item())\n",
    "        if (batch_idx+1) % batch_print_num == 0:\n",
    "            print(\"Run\\tEpoch: [{}/{}]  Item: [{}/{}]  AvgLoss: {:.4e}\".format(\n",
    "                epoch_idx+1, epoch_num,\n",
    "                (batch_idx + 1) * model.hpm[\"batch_size\"], len(dataloader.dataset),\n",
    "                wd.show_batch_loss_avg()))\n",
    "    if wd.toStop:\n",
    "        optimizer.zero_grad()\n",
    "        print(\"Tip\\tEarly Stop at Epoch: [{}/{}]  LossRatio: {:.1f}\".format(\n",
    "            epoch_idx+1, epoch_num, wd.ratio_this))\n",
    "        break\n",
    "    print(\"Run\\tEpoch [{}/{}]  AvgLoss: {:.4e}\".format(\n",
    "        epoch_idx+1,\n",
    "        epoch_num,\n",
    "        wd.avg_epoch_loss(len(dataloader.dataset))))\n",
    "\n",
    "print(\"Tip\\tTraining finished\")\n",
    "model.eval();\n"
   ]
  },
  {
   "cell_type": "code",
   "execution_count": 13,
   "metadata": {},
   "outputs": [
    {
     "data": {
      "image/png": "[encoded data removed]",
      "text/plain": [
       "<Figure size 432x288 with 1 Axes>"
      ]
     },
     "metadata": {
      "needs_background": "light"
     },
     "output_type": "display_data"
    }
   ],
   "source": [
    "plt.plot(wd.epoch_loss_arr)\n",
    "plt.xscale('log')\n",
    "plt.yscale('log')\n",
    "plt.show()"
   ]
  },
  {
   "cell_type": "code",
   "execution_count": 14,
   "metadata": {},
   "outputs": [
    {
     "name": "stdout",
     "output_type": "stream",
     "text": [
      "[9, 2, 7, 4, 9, 2, 2, 7]\n",
      "[0, 4, 1, 8, 3, 9, 7, 6]\n",
      "[]\n"
     ]
    },
    {
     "data": {
      "image/png": "[encoded data removed]",
      "text/plain": [
       "<PIL.Image.Image image mode=RGB size=242x124 at 0x7FD9E40F2700>"
      ]
     },
     "execution_count": 14,
     "metadata": {},
     "output_type": "execute_result"
    }
   ],
   "source": [
    "test_idxes = random.sample(range(len(dataloader.dataset)), 16)\n",
    "test_datas = torch.stack([dataset[i][0] for i in test_idxes])\n",
    "test_labels = [dataset[i][1] for i in test_idxes]\n",
    "pred_datas, _, _ = model.forward(test_datas.to(model.hpm['device']))\n",
    "pred_datas = pred_datas.data.cpu()\n",
    "\n",
    "for i in range(len(test_idxes)//8):\n",
    "    print(test_labels[i*8:(i+1)*8])\n",
    "print(test_labels[len(test_labels)//8 * 8:])\n",
    "\n",
    "concat_datas = torch.concat(\n",
    "    [torchvision.utils.make_grid(test_datas, nrow=8),\n",
    "    torchvision.utils.make_grid(pred_datas, nrow=8)], dim=1)\n",
    "ToPILImage()(concat_datas)\n"
   ]
  },
  {
   "cell_type": "code",
   "execution_count": null,
   "metadata": {},
   "outputs": [],
   "source": []
  },
  {
   "cell_type": "markdown",
   "metadata": {},
   "source": [
    "## Save"
   ]
  },
  {
   "cell_type": "code",
   "execution_count": 16,
   "metadata": {},
   "outputs": [
    {
     "data": {
      "text/plain": [
       "'20220423_152115'"
      ]
     },
     "execution_count": 16,
     "metadata": {},
     "output_type": "execute_result"
    }
   ],
   "source": [
    "timestamp = datetime.now().strftime(\"%Y%m%d_%H%M%S\")\n",
    "timestamp"
   ]
  },
  {
   "cell_type": "code",
   "execution_count": 17,
   "metadata": {},
   "outputs": [],
   "source": [
    "save_names = {\n",
    "    'model': './data/VAE-CNN@MNIST-model-'+timestamp+'.pth',\n",
    "    'state_dict': './data/VAE-CNN@MNIST-state_dict-'+timestamp+'.pth',\n",
    "    'loss': './data/VAE-CNN@MNIST-loss-'+timestamp+'.pth',\n",
    "}\n",
    "\n",
    "# os.chdir(workspace)\n",
    "\n",
    "torch.save(model.state_dict(), save_names['state_dict'])\n",
    "# model.load_state_dict(torch.load('./data/VAE-CNN@MNIST-state_dict.pth'))\n",
    "torch.save(model, save_names['model'])\n",
    "# model =torch.load('./data/VAE-CNN@MNIST-model.pth')\n",
    "torch.save(wd.epoch_loss_arr, save_names['loss'])\n"
   ]
  }
 ],
 "metadata": {
  "interpreter": {
   "hash": "1f7362eec31531a7a9ee3340fab897c9ce75826a81c797ef6c8bb05de396136b"
  },
  "kernelspec": {
   "display_name": "Python 3.9.7 ('ML')",
   "language": "python",
   "name": "python3"
  },
  "language_info": {
   "codemirror_mode": {
    "name": "ipython",
    "version": 3
   },
   "file_extension": ".py",
   "mimetype": "text/x-python",
   "name": "python",
   "nbconvert_exporter": "python",
   "pygments_lexer": "ipython3",
   "version": "3.9.7"
  },
  "orig_nbformat": 4
 },
 "nbformat": 4,
 "nbformat_minor": 2
}
